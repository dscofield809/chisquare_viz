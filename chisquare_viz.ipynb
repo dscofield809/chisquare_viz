{
 "cells": [
  {
   "cell_type": "markdown",
   "id": "01c4e5f5",
   "metadata": {},
   "source": [
    "# Interactive Chi-square Test Visualization\n",
    "\n",
    "This notebook demonstrates an interactive chi-square test for a 2x2 contingency table using Plotly and ipywidgets. You can adjust the observed values using sliders and see the results update dynamically."
   ]
  },
  {
   "cell_type": "code",
   "execution_count": 1,
   "id": "789cd5b3",
   "metadata": {},
   "outputs": [
    {
     "ename": "ModuleNotFoundError",
     "evalue": "No module named 'ipywidgets'",
     "output_type": "error",
     "traceback": [
      "\u001b[31m---------------------------------------------------------------------------\u001b[39m",
      "\u001b[31mModuleNotFoundError\u001b[39m                       Traceback (most recent call last)",
      "\u001b[36mCell\u001b[39m\u001b[36m \u001b[39m\u001b[32mIn[1]\u001b[39m\u001b[32m, line 6\u001b[39m\n\u001b[32m      4\u001b[39m \u001b[38;5;28;01mfrom\u001b[39;00m\u001b[38;5;250m \u001b[39m\u001b[34;01mplotly\u001b[39;00m\u001b[34;01m.\u001b[39;00m\u001b[34;01msubplots\u001b[39;00m\u001b[38;5;250m \u001b[39m\u001b[38;5;28;01mimport\u001b[39;00m make_subplots\n\u001b[32m      5\u001b[39m \u001b[38;5;28;01mfrom\u001b[39;00m\u001b[38;5;250m \u001b[39m\u001b[34;01mscipy\u001b[39;00m\u001b[34;01m.\u001b[39;00m\u001b[34;01mstats\u001b[39;00m\u001b[38;5;250m \u001b[39m\u001b[38;5;28;01mimport\u001b[39;00m chi2_contingency, chi2\n\u001b[32m----> \u001b[39m\u001b[32m6\u001b[39m \u001b[38;5;28;01mimport\u001b[39;00m\u001b[38;5;250m \u001b[39m\u001b[34;01mipywidgets\u001b[39;00m\u001b[38;5;250m \u001b[39m\u001b[38;5;28;01mas\u001b[39;00m\u001b[38;5;250m \u001b[39m\u001b[34;01mwidgets\u001b[39;00m\n",
      "\u001b[31mModuleNotFoundError\u001b[39m: No module named 'ipywidgets'"
     ]
    }
   ],
   "source": [
    "# Import required libraries\n",
    "import numpy as np\n",
    "import plotly.graph_objs as go\n",
    "from plotly.subplots import make_subplots\n",
    "from scipy.stats import chi2_contingency, chi2\n",
    "import ipywidgets as widgets"
   ]
  },
  {
   "cell_type": "code",
   "execution_count": null,
   "id": "68b24505",
   "metadata": {},
   "outputs": [
    {
     "ename": "",
     "evalue": "",
     "output_type": "error",
     "traceback": [
      "\u001b[1;31mRunning cells with '.venv (3.12.3) (Python 3.12.3)' requires the ipykernel package.\n",
      "\u001b[1;31mInstall 'ipykernel' into the Python environment. \n",
      "\u001b[1;31mCommand: '/workspaces/chisquare_viz/.venv/bin/python -m pip install ipykernel -U --force-reinstall'"
     ]
    }
   ],
   "source": [
    "# Interactive dashboard function and widgets\n",
    "row_labels = ['Male', 'Female']\n",
    "col_labels = ['Option A', 'Option B']\n",
    "\n",
    "def update_dashboard(male_a, male_b, female_a, female_b):\n",
    "    observed_data = np.array([\n",
    "        [male_a, male_b],\n",
    "        [female_a, female_b]\n",
    "    ])\n",
    "    chi2_stat, p_value, dof, expected = chi2_contingency(observed_data)\n",
    "    alpha = 0.05\n",
    "    result_text = (\n",
    "        f\"Degrees of freedom: {dof}<br>\"\n",
    "        f\"Chi-square statistic: {chi2_stat:.2f}<br>\"\n",
    "        f\"P-value: {p_value:.3f}<br>\"\n",
    "    )\n",
    "    if p_value < alpha:\n",
    "        result_text += \"<br>p-value < alpha: <b>Reject the null hypothesis.</b><br>There is a significant association between the two categorical variables.\"\n",
    "    else:\n",
    "        result_text += \"<br>p-value > alpha: <b>Fail to reject the null hypothesis.</b><br>There is no significant association between the two categorical variables.\"\n",
    "\n",
    "    fig = make_subplots(\n",
    "        rows=2, cols=2,\n",
    "        specs=[[{\"type\": \"table\"}, {\"type\": \"xy\"}],\n",
    "               [{\"type\": \"domain\"}, {\"type\": \"xy\"}]],\n",
    "        subplot_titles=(\"Observed Contingency Table\", \"Chi-square Distribution\", \"\", \"Test Results\")\n",
    "    )\n",
    "    fig.add_trace(\n",
    "        go.Table(\n",
    "            header=dict(values=[\"\", *col_labels], align='center'),\n",
    "            cells=dict(values=[[row_labels[0], row_labels[1]],\n",
    "                              [male_a, female_a],\n",
    "                              [male_b, female_b]], align='center')\n",
    "        ),\n",
    "        row=1, col=1\n",
    "    )\n",
    "    x = np.linspace(0, max(chi2_stat + 10, 20), 500)\n",
    "    y = chi2.pdf(x, dof)\n",
    "    fig.add_trace(\n",
    "        go.Scatter(x=x, y=y, mode='lines', name=f'dof={dof}'),\n",
    "        row=1, col=2\n",
    "    )\n",
    "    fig.add_trace(\n",
    "        go.Scatter(x=[chi2_stat], y=[chi2.pdf(chi2_stat, dof)], mode='markers', marker=dict(color='red', size=10), name='Chi2 stat'),\n",
    "        row=1, col=2\n",
    "    )\n",
    "    fig.add_trace(\n",
    "        go.Scatter(\n",
    "            x=[0], y=[0], text=[result_text], mode='text', showlegend=False\n",
    "        ),\n",
    "        row=2, col=2\n",
    "    )\n",
    "    fig.update_layout(height=700, width=1000, showlegend=False)\n",
    "    fig.update_xaxes(title_text=\"Chi-square value\", row=1, col=2)\n",
    "    fig.update_yaxes(title_text=\"Probability Density\", row=1, col=2)\n",
    "    fig.show()\n",
    "\n",
    "male_a_slider = widgets.IntSlider(value=50, min=10, max=100, step=1, description='Male Option A')\n",
    "male_b_slider = widgets.IntSlider(value=30, min=10, max=100, step=1, description='Male Option B')\n",
    "female_a_slider = widgets.IntSlider(value=40, min=10, max=100, step=1, description='Female Option A')\n",
    "female_b_slider = widgets.IntSlider(value=60, min=10, max=100, step=1, description='Female Option B')\n",
    "\n",
    "ui = widgets.VBox([male_a_slider, male_b_slider, female_a_slider, female_b_slider])\n",
    "out = widgets.interactive_output(update_dashboard, {\n",
    "    'male_a': male_a_slider,\n",
    "    'male_b': male_b_slider,\n",
    "    'female_a': female_a_slider,\n",
    "    'female_b': female_b_slider\n",
    "})\n",
    "\n",
    "display(ui, out)"
   ]
  },
  {
   "cell_type": "markdown",
   "id": "dafb8de1",
   "metadata": {},
   "source": [
    "## Instructions\n",
    "\n",
    "- Use the sliders below to change the observed values in the contingency table.\n",
    "- The dashboard will update the table, chi-square distribution, and test results automatically.\n",
    "- The test is valid only if all observed and expected frequencies are at least 5."
   ]
  }
 ],
 "metadata": {
  "kernelspec": {
   "display_name": "Python 3",
   "language": "python",
   "name": "python3"
  },
  "language_info": {
   "codemirror_mode": {
    "name": "ipython",
    "version": 3
   },
   "file_extension": ".py",
   "mimetype": "text/x-python",
   "name": "python",
   "nbconvert_exporter": "python",
   "pygments_lexer": "ipython3",
   "version": "3.12.1"
  }
 },
 "nbformat": 4,
 "nbformat_minor": 5
}
